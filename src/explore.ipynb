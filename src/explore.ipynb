{
    "cells": [
        {
            "cell_type": "markdown",
            "metadata": {},
            "source": [
                "# Explore here"
            ]
        },
        {
            "cell_type": "code",
            "execution_count": null,
            "metadata": {},
            "outputs": [
                {
                    "data": {
                        "text/html": [
                            "<div>\n",
                            "<style scoped>\n",
                            "    .dataframe tbody tr th:only-of-type {\n",
                            "        vertical-align: middle;\n",
                            "    }\n",
                            "\n",
                            "    .dataframe tbody tr th {\n",
                            "        vertical-align: top;\n",
                            "    }\n",
                            "\n",
                            "    .dataframe thead th {\n",
                            "        text-align: right;\n",
                            "    }\n",
                            "</style>\n",
                            "<table border=\"1\" class=\"dataframe\">\n",
                            "  <thead>\n",
                            "    <tr style=\"text-align: right;\">\n",
                            "      <th></th>\n",
                            "      <th>package_name</th>\n",
                            "      <th>review</th>\n",
                            "      <th>polarity</th>\n",
                            "    </tr>\n",
                            "  </thead>\n",
                            "  <tbody>\n",
                            "    <tr>\n",
                            "      <th>0</th>\n",
                            "      <td>com.facebook.katana</td>\n",
                            "      <td>privacy at least put some option appear offli...</td>\n",
                            "      <td>0</td>\n",
                            "    </tr>\n",
                            "    <tr>\n",
                            "      <th>1</th>\n",
                            "      <td>com.facebook.katana</td>\n",
                            "      <td>messenger issues ever since the last update, ...</td>\n",
                            "      <td>0</td>\n",
                            "    </tr>\n",
                            "    <tr>\n",
                            "      <th>2</th>\n",
                            "      <td>com.facebook.katana</td>\n",
                            "      <td>profile any time my wife or anybody has more ...</td>\n",
                            "      <td>0</td>\n",
                            "    </tr>\n",
                            "    <tr>\n",
                            "      <th>3</th>\n",
                            "      <td>com.facebook.katana</td>\n",
                            "      <td>the new features suck for those of us who don...</td>\n",
                            "      <td>0</td>\n",
                            "    </tr>\n",
                            "    <tr>\n",
                            "      <th>4</th>\n",
                            "      <td>com.facebook.katana</td>\n",
                            "      <td>forced reload on uploading pic on replying co...</td>\n",
                            "      <td>0</td>\n",
                            "    </tr>\n",
                            "  </tbody>\n",
                            "</table>\n",
                            "</div>"
                        ],
                        "text/plain": [
                            "          package_name                                             review  \\\n",
                            "0  com.facebook.katana   privacy at least put some option appear offli...   \n",
                            "1  com.facebook.katana   messenger issues ever since the last update, ...   \n",
                            "2  com.facebook.katana   profile any time my wife or anybody has more ...   \n",
                            "3  com.facebook.katana   the new features suck for those of us who don...   \n",
                            "4  com.facebook.katana   forced reload on uploading pic on replying co...   \n",
                            "\n",
                            "   polarity  \n",
                            "0         0  \n",
                            "1         0  \n",
                            "2         0  \n",
                            "3         0  \n",
                            "4         0  "
                        ]
                    },
                    "execution_count": 32,
                    "metadata": {},
                    "output_type": "execute_result"
                }
            ],
            "source": [
                "#Paso 1: Carga del conjunto de datos\n",
                "import pandas as pd\n",
                "\n",
                "df = pd.read_csv(\"https://raw.githubusercontent.com/4GeeksAcademy/naive-bayes-project-tutorial/main/playstore_reviews.csv\")\n",
                "df.head()"
            ]
        },
        {
            "cell_type": "code",
            "execution_count": null,
            "metadata": {},
            "outputs": [],
            "source": [
                "#Paso 2: Estudio de variables y su contenido\n",
                "# Eliminar columnas no necesarias\n",
                "df = df.drop(columns=['package_name'])\n",
                "\n",
                "# Limpiar texto\n",
                "df['review'] = df['review'].astype(str).str.strip().str.lower()\n",
                "\n",
                "# Dividir en X y\n",
                "X = df['review']\n",
                "y = df['polarity']\n",
                "\n",
                "# Dividir train/test\n",
                "from sklearn.model_selection import train_test_split\n",
                "X_train, X_test, y_train, y_test = train_test_split(X, y, test_size=0.2, random_state=42)\n",
                "\n",
                "# Vectorización\n",
                "from sklearn.feature_extraction.text import CountVectorizer\n",
                "vec_model = CountVectorizer(stop_words=\"english\")\n",
                "X_train = vec_model.fit_transform(X_train).toarray()\n",
                "X_test = vec_model.transform(X_test).toarray()\n"
            ]
        },
        {
            "cell_type": "code",
            "execution_count": null,
            "metadata": {},
            "outputs": [
                {
                    "name": "stdout",
                    "output_type": "stream",
                    "text": [
                        "Accuracy MultinomialNB: 0.8156\n",
                        "Accuracy BernoulliNB: 0.7709\n",
                        "Accuracy GaussianNB: 0.8045\n"
                    ]
                }
            ],
            "source": [
                "#Paso 3: Construye un naive bayesfrom sklearn.naive_bayes import MultinomialNB, BernoulliNB, GaussianNB\n",
                "from sklearn.metrics import accuracy_score, classification_report\n",
                "\n",
                "# MultinomialNB\n",
                "model_mnb = MultinomialNB()\n",
                "model_mnb.fit(X_train, y_train)\n",
                "y_pred_mnb = model_mnb.predict(X_test)\n",
                "acc_mnb = accuracy_score(y_test, y_pred_mnb)\n",
                "\n",
                "# BernoulliNB\n",
                "model_bnb = BernoulliNB()\n",
                "model_bnb.fit(X_train, y_train)\n",
                "y_pred_bnb = model_bnb.predict(X_test)\n",
                "acc_bnb = accuracy_score(y_test, y_pred_bnb)\n",
                "\n",
                "# GaussianNB (requiere float)\n",
                "model_gnb = GaussianNB()\n",
                "model_gnb.fit(X_train, y_train)\n",
                "y_pred_gnb = model_gnb.predict(X_test)\n",
                "acc_gnb = accuracy_score(y_test, y_pred_gnb)\n",
                "\n",
                "print(f\"Accuracy MultinomialNB: {acc_mnb:.4f}\")\n",
                "print(f\"Accuracy BernoulliNB: {acc_bnb:.4f}\")\n",
                "print(f\"Accuracy GaussianNB: {acc_gnb:.4f}\")\n"
            ]
        },
        {
            "cell_type": "code",
            "execution_count": null,
            "metadata": {},
            "outputs": [
                {
                    "name": "stdout",
                    "output_type": "stream",
                    "text": [
                        "Accuracy RandomForest: 0.7989\n"
                    ]
                }
            ],
            "source": [
                "#Paso 4: Optimiza el modelo anterior\n",
                "from sklearn.ensemble import RandomForestClassifier\n",
                "\n",
                "rf_model = RandomForestClassifier(n_estimators=100, random_state=42)\n",
                "rf_model.fit(X_train, y_train)\n",
                "y_pred_rf = rf_model.predict(X_test)\n",
                "acc_rf = accuracy_score(y_test, y_pred_rf)\n",
                "\n",
                "print(f\"Accuracy RandomForest: {acc_rf:.4f}\")"
            ]
        },
        {
            "cell_type": "code",
            "execution_count": null,
            "metadata": {},
            "outputs": [
                {
                    "data": {
                        "text/plain": [
                            "['vectorizador.pkl']"
                        ]
                    },
                    "execution_count": 36,
                    "metadata": {},
                    "output_type": "execute_result"
                }
            ],
            "source": [
                "#Paso 5: Guarda el modelo\n",
                "import joblib\n",
                "\n",
                "joblib.dump(model_mnb, \"modelo_naive_bayes_mnb.pkl\")\n",
                "joblib.dump(vec_model, \"vectorizador.pkl\")"
            ]
        },
        {
            "cell_type": "code",
            "execution_count": 37,
            "metadata": {},
            "outputs": [
                {
                    "name": "stdout",
                    "output_type": "stream",
                    "text": [
                        "Accuracy SVM: 0.8324\n"
                    ]
                }
            ],
            "source": [
                "from sklearn.svm import LinearSVC\n",
                "\n",
                "svc_model = LinearSVC()\n",
                "svc_model.fit(X_train, y_train)\n",
                "y_pred_svc = svc_model.predict(X_test)\n",
                "acc_svc = accuracy_score(y_test, y_pred_svc)\n",
                "\n",
                "print(f\"Accuracy SVM: {acc_svc:.4f}\")\n"
            ]
        }
    ],
    "metadata": {
        "kernelspec": {
            "display_name": "Python 3",
            "language": "python",
            "name": "python3"
        },
        "language_info": {
            "codemirror_mode": {
                "name": "ipython",
                "version": 3
            },
            "file_extension": ".py",
            "mimetype": "text/x-python",
            "name": "python",
            "nbconvert_exporter": "python",
            "pygments_lexer": "ipython3",
            "version": "3.11.4"
        },
        "orig_nbformat": 4
    },
    "nbformat": 4,
    "nbformat_minor": 2
}
